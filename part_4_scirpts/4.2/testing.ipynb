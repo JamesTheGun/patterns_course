{
 "cells": [
  {
   "cell_type": "code",
   "execution_count": null,
   "id": "f7da28c0",
   "metadata": {
    "vscode": {
     "languageId": "plaintext"
    }
   },
   "outputs": [],
   "source": [
    "import numpy as np\n",
    "from glob import glob\n",
    "from PIL import Image\n",
    "from tqdm import tqdm\n",
    "import torch\n",
    "import torch.nn as nn\n",
    "import torch.nn.functional as F\n",
    "from torch.utils.data import Dataset, DataLoader\n",
    "from torch.amp import autocast, GradScaler\n",
    "\n",
    "from mri_seg_utils import *\n",
    "from mri_segmentation_classes import *\n",
    "\n",
    "torch.cuda.empty_cache()\n",
    "\n",
    "train_dataset = MRISliceDataset(\"keras_png_slices_train\", \"keras_png_slices_seg_train\")\n",
    "val_dataset   = MRISliceDataset(\"keras_png_slices_validate\", \"keras_png_slices_seg_validate\")\n",
    "\n",
    " # Scan labels across train + val\n",
    "mn_tr, mx_tr, uniq_tr = scan_labels(train_dataset)\n",
    "mn_va, mx_va, uniq_va = scan_labels(val_dataset)\n",
    "uniq = sorted(set(uniq_tr) | set(uniq_va))\n",
    "print(f\"Label stats -> min={min(mn_tr,mn_va)}, max={max(mx_tr,mx_va)}, uniques(sample)={uniq}\")\n",
    "\n",
    "HAS_255 = 255 in uniq\n",
    "valid_labels = [u for u in uniq if u != 255]\n",
    "num_classes = max(valid_labels) + 1 if valid_labels else 1\n",
    "\n",
    "print(f\"Using num_classes={num_classes}, ignore_index={255 if HAS_255 else None}\")\n",
    "\n",
    "train_loader = DataLoader(train_dataset, batch_size=22, shuffle=True, num_workers=0, pin_memory=True)\n",
    "val_loader   = DataLoader(val_dataset, batch_size=22, shuffle=False, num_workers=0, pin_memory=True)\n",
    "\n",
    "train_unet(train_loader, val_loader, num_classes, ignore_index=255 if HAS_255 else None)"
   ]
  }
 ],
 "metadata": {
  "language_info": {
   "name": "python"
  }
 },
 "nbformat": 4,
 "nbformat_minor": 5
}
